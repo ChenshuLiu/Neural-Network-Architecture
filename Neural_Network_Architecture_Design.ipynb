{
  "nbformat": 4,
  "nbformat_minor": 0,
  "metadata": {
    "colab": {
      "provenance": [],
      "toc_visible": true,
      "authorship_tag": "ABX9TyP+vaVI4TV3xejAA/o/0Ivy",
      "include_colab_link": true
    },
    "kernelspec": {
      "name": "python3",
      "display_name": "Python 3"
    },
    "language_info": {
      "name": "python"
    }
  },
  "cells": [
    {
      "cell_type": "markdown",
      "metadata": {
        "id": "view-in-github",
        "colab_type": "text"
      },
      "source": [
        "<a href=\"https://colab.research.google.com/github/ChenshuLiu/Neural-Network-Architecture/blob/main/Neural_Network_Architecture_Design.ipynb\" target=\"_parent\"><img src=\"https://colab.research.google.com/assets/colab-badge.svg\" alt=\"Open In Colab\"/></a>"
      ]
    },
    {
      "cell_type": "markdown",
      "source": [
        "# Neural Network Architecture\n",
        "Credit to: YT channel **sentdex**'s video series on **Neural Networks from Scratch**\n",
        "\n",
        "Link to video series: https://www.youtube.com/watch?v=Wo5dMEP_BbI&list=PLQVvvaa0QuDcjD5BAw2DxE6OF2tius3V3 "
      ],
      "metadata": {
        "id": "r69XgPTLYtUd"
      }
    },
    {
      "cell_type": "markdown",
      "source": [
        "## Numerical Construction of Neural Network"
      ],
      "metadata": {
        "id": "Qw7mhQZGXz-t"
      }
    },
    {
      "cell_type": "markdown",
      "source": [
        "### Initialize Inputs, Weights, and Biases"
      ],
      "metadata": {
        "id": "FYbq1oJpZ6MP"
      }
    },
    {
      "cell_type": "code",
      "source": [
        "inputs = [1, 2, 3, 2.5]\n",
        "\n",
        "weights = [[0.2, 0.8, -0.5, 1.0],\n",
        "           [0.5, -0.91, 0.26, -0.5],\n",
        "           [-0.26, -0.27, 0.17, 0.87]]\n",
        "\n",
        "biases = [2, 3, 0.5]"
      ],
      "metadata": {
        "id": "iHME7rvqXxud"
      },
      "execution_count": 2,
      "outputs": []
    },
    {
      "cell_type": "markdown",
      "source": [
        "### Method 1: Pure Arithematic Calculations"
      ],
      "metadata": {
        "id": "rEiJeHWCaD3L"
      }
    },
    {
      "cell_type": "code",
      "source": [
        "output = [inputs[0]*weights[0][0] + inputs[1]*weights[0][1] + inputs[2]*weights[0][2] + inputs[3]*weights[0][3] + biases[0],\n",
        "          inputs[0]*weights[1][0] + inputs[1]*weights[1][1] + inputs[2]*weights[1][2] + inputs[3]*weights[1][3] + biases[1],\n",
        "          inputs[0]*weights[2][0] + inputs[1]*weights[2][1] + inputs[2]*weights[2][2] + inputs[3]*weights[2][3] + biases[2]]\n",
        "\n",
        "print(output)"
      ],
      "metadata": {
        "colab": {
          "base_uri": "https://localhost:8080/"
        },
        "id": "Af6td6fdZ5EJ",
        "outputId": "b4f87322-f3b4-4b3c-f9b4-f7f10ed29aa3"
      },
      "execution_count": 9,
      "outputs": [
        {
          "output_type": "stream",
          "name": "stdout",
          "text": [
            "[4.8, 1.21, 2.385]\n"
          ]
        }
      ]
    },
    {
      "cell_type": "markdown",
      "source": [
        "### Method 2: For Loops Calculation"
      ],
      "metadata": {
        "id": "2yXv6PHbaM6s"
      }
    },
    {
      "cell_type": "code",
      "source": [
        "layer_outputs = []\n",
        "for neuron_weights, neuron_bias in zip(weights, biases):\n",
        "  neuron_output = 0\n",
        "  for n_input, weight in zip(inputs, neuron_weights):\n",
        "    neuron_output += n_input * weight\n",
        "  neuron_output += neuron_bias\n",
        "  layer_outputs.append(neuron_output)\n",
        "\n",
        "print(layer_outputs)"
      ],
      "metadata": {
        "colab": {
          "base_uri": "https://localhost:8080/"
        },
        "id": "snPDDELiYGGJ",
        "outputId": "efd66697-27e7-4cee-e176-46fb2e0f86b2"
      },
      "execution_count": 4,
      "outputs": [
        {
          "output_type": "stream",
          "name": "stdout",
          "text": [
            "[4.8, 1.21, 2.385]\n"
          ]
        }
      ]
    },
    {
      "cell_type": "markdown",
      "source": [
        "### Initialize Inputs, Weights, and Biases"
      ],
      "metadata": {
        "id": "21sTyMlIGa62"
      }
    },
    {
      "cell_type": "code",
      "source": [
        "import numpy as np\n",
        "\n",
        "inputs = [[1, 2, 3, 4],\n",
        "          [2, 3, 4, 5],\n",
        "          [3, 4, 5, 6]]\n",
        "\n",
        "weights = [[0.1, 0.2, 0.3, 0.4],\n",
        "           [0.2, 0.3, 0.4, 0.5],\n",
        "           [0.3, 0.4, 0.5, 0.6]]\n",
        "\n",
        "biases = [2, 3, 4]"
      ],
      "metadata": {
        "id": "Zsq42p1-GeJM"
      },
      "execution_count": 12,
      "outputs": []
    },
    {
      "cell_type": "markdown",
      "source": [
        "### Method 3: Numpy Matrix Multiplication"
      ],
      "metadata": {
        "id": "bhC7TYIzGnK9"
      }
    },
    {
      "cell_type": "markdown",
      "source": [
        "#### Unaligned Dimensions (gives an error)"
      ],
      "metadata": {
        "id": "Hn61BqRBG5sV"
      }
    },
    {
      "cell_type": "code",
      "source": [
        "output = np.dot(inputs, weights) + biases\n",
        "print(output)"
      ],
      "metadata": {
        "colab": {
          "base_uri": "https://localhost:8080/",
          "height": 222
        },
        "id": "50aofLFGGlXe",
        "outputId": "4bd5b0b2-4aee-4f39-8f3f-10694412aad2"
      },
      "execution_count": 13,
      "outputs": [
        {
          "output_type": "error",
          "ename": "ValueError",
          "evalue": "ignored",
          "traceback": [
            "\u001b[0;31m---------------------------------------------------------------------------\u001b[0m",
            "\u001b[0;31mValueError\u001b[0m                                Traceback (most recent call last)",
            "\u001b[0;32m<ipython-input-13-b13be5d8e757>\u001b[0m in \u001b[0;36m<module>\u001b[0;34m\u001b[0m\n\u001b[0;32m----> 1\u001b[0;31m \u001b[0moutput\u001b[0m \u001b[0;34m=\u001b[0m \u001b[0mnp\u001b[0m\u001b[0;34m.\u001b[0m\u001b[0mdot\u001b[0m\u001b[0;34m(\u001b[0m\u001b[0minputs\u001b[0m\u001b[0;34m,\u001b[0m \u001b[0mweights\u001b[0m\u001b[0;34m)\u001b[0m \u001b[0;34m+\u001b[0m \u001b[0mbiases\u001b[0m\u001b[0;34m\u001b[0m\u001b[0;34m\u001b[0m\u001b[0m\n\u001b[0m\u001b[1;32m      2\u001b[0m \u001b[0mprint\u001b[0m\u001b[0;34m(\u001b[0m\u001b[0moutput\u001b[0m\u001b[0;34m)\u001b[0m\u001b[0;34m\u001b[0m\u001b[0;34m\u001b[0m\u001b[0m\n",
            "\u001b[0;32m<__array_function__ internals>\u001b[0m in \u001b[0;36mdot\u001b[0;34m(*args, **kwargs)\u001b[0m\n",
            "\u001b[0;31mValueError\u001b[0m: shapes (3,4) and (3,4) not aligned: 4 (dim 1) != 3 (dim 0)"
          ]
        }
      ]
    },
    {
      "cell_type": "markdown",
      "source": [
        "#### Aligned Dimensions (shape transformation)\n",
        "Matrix multiplication requires dimension alignment that goes: $[m, n] * [n, p] = [m, p]$ where the number of columns in the first matrix needs to be the same as the number of rows in the second matrix. Thus, when the shape of `inputs` is the same as `weights`, we need to **transpose** the `weights` matrix to make the dimensions align."
      ],
      "metadata": {
        "id": "44vR-W2iG9GW"
      }
    },
    {
      "cell_type": "code",
      "source": [
        "output = np.dot(inputs, np.array(weights).T) + biases\n",
        "print(output)"
      ],
      "metadata": {
        "colab": {
          "base_uri": "https://localhost:8080/"
        },
        "id": "JnhIums_HAQD",
        "outputId": "204d9b73-0237-465a-c6ee-f9a9797d1094"
      },
      "execution_count": 14,
      "outputs": [
        {
          "output_type": "stream",
          "name": "stdout",
          "text": [
            "[[ 5.   7.   9. ]\n",
            " [ 6.   8.4 10.8]\n",
            " [ 7.   9.8 12.6]]\n"
          ]
        }
      ]
    },
    {
      "cell_type": "markdown",
      "source": [
        "## Neural Network Architecture Components"
      ],
      "metadata": {
        "id": "PInpwf5MhtOr"
      }
    },
    {
      "cell_type": "markdown",
      "source": [
        "### Batches\n",
        "What is batch?\n",
        "* Batches are groups of samples to be input into the algorithm\n",
        "* For example, there are 1000 images for training and we specified batch size to be 10. So, the number of batches we will have in one epoch is 100 (i.e. 100 groups of images, each group with 10 images)\n",
        "\n",
        "Why batches?\n",
        "* Parallel calculation (higher efficiency)\n",
        "* Generalization (instead of studying one sample at a time, study a batch of samples lead to higher generalizability)\n",
        "* **Finding a balance between avoiding overfitting and gaining higher computation efficiency**\n",
        "\n",
        "However, not recommended to use all data at one (single batch of all the data), because it will lead to overfitting (i.e. the algorithm trying to fit the training data perfectly, but cannot generalize to other cases)\n",
        "\n",
        "Reference: https://deeplizard.com/learn/video/U4WB9p6ODjM "
      ],
      "metadata": {
        "id": "2OMQXk0TiQ_9"
      }
    },
    {
      "cell_type": "markdown",
      "source": [
        "### Dense Layer"
      ],
      "metadata": {
        "id": "-dGnTn7RJAVE"
      }
    },
    {
      "cell_type": "code",
      "source": [
        "class layer_Dense:\n",
        "  def __init__(self, n_inputs, n_neurons):\n",
        "    self.weights = 0.10 * np.random.randn(n_inputs, n_neurons)\n",
        "    self.biases = np.zeros((1, n_neurons))\n",
        "  def forward(self, inputs):\n",
        "    self.output = np.dot(inputs, self.weights) + self.biases"
      ],
      "metadata": {
        "id": "lvrjD-EHVnN9"
      },
      "execution_count": 6,
      "outputs": []
    }
  ]
}